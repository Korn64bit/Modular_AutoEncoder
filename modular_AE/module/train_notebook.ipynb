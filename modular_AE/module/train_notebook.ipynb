{
 "cells": [
  {
   "cell_type": "code",
   "execution_count": 1,
   "id": "ab03b5f4",
   "metadata": {},
   "outputs": [],
   "source": [
    "import os\n",
    "from pathlib import Path\n",
    "import torch\n",
    "from torch.utils.data import DataLoader\n",
    "import torchvision\n",
    "from torchvision import datasets\n",
    "from torchvision.transforms import ToTensor"
   ]
  },
  {
   "cell_type": "code",
   "execution_count": 2,
   "id": "af3440c1",
   "metadata": {},
   "outputs": [
    {
     "name": "stdout",
     "output_type": "stream",
     "text": [
      "DataLoader: (<torch.utils.data.dataloader.DataLoader object at 0x0000023A1A9E8050>, <torch.utils.data.dataloader.DataLoader object at 0x0000023A1A989090>)\n",
      "length of train dataloader: 1875 batches of 32\n",
      "length of test dataloader: 313 batches of 32\n"
     ]
    }
   ],
   "source": [
    "BATCH_SIZE = 32\n",
    "data_dir = Path('../data')\n",
    "\n",
    "train_data = datasets.FashionMNIST(root=data_dir,\n",
    "                                   train=True,\n",
    "                                   download=True,\n",
    "                                   transform=ToTensor(),\n",
    "                                   target_transform=None)\n",
    "test_data = datasets.FashionMNIST(root=data_dir,\n",
    "                                  train=False,\n",
    "                                  download=True,\n",
    "                                  transform=ToTensor())\n",
    "\n",
    "train_dataloader = DataLoader(train_data, batch_size=BATCH_SIZE, shuffle=True)\n",
    "test_dataloader = DataLoader(test_data, batch_size=BATCH_SIZE, shuffle=False)\n",
    "\n",
    "print(f'DataLoader: {train_dataloader, test_dataloader}')\n",
    "print(f'length of train dataloader: {len(train_dataloader)} batches of {BATCH_SIZE}')\n",
    "print(f'length of test dataloader: {len(test_dataloader)} batches of {BATCH_SIZE}')"
   ]
  },
  {
   "cell_type": "markdown",
   "id": "9a43478b",
   "metadata": {},
   "source": [
    "## AutoEncoder V1"
   ]
  },
  {
   "cell_type": "code",
   "execution_count": 22,
   "id": "4eb5bedf",
   "metadata": {},
   "outputs": [
    {
     "name": "stdout",
     "output_type": "stream",
     "text": [
      "The autoreload extension is already loaded. To reload it, use:\n",
      "  %reload_ext autoreload\n"
     ]
    },
    {
     "data": {
      "application/vnd.jupyter.widget-view+json": {
       "model_id": "c4bc9fc344114c48b4be2ce46f5d9c8a",
       "version_major": 2,
       "version_minor": 0
      },
      "text/plain": [
       "  0%|          | 0/30 [00:00<?, ?it/s]"
      ]
     },
     "metadata": {},
     "output_type": "display_data"
    },
    {
     "name": "stdout",
     "output_type": "stream",
     "text": [
      "Epoch: 1 | train_loss: 2.2173 | test_loss: 1.3639 | \n",
      "Epoch: 2 | train_loss: 1.2742 | test_loss: 1.1857 | \n",
      "Epoch: 3 | train_loss: 1.1280 | test_loss: 1.0586 | \n",
      "Epoch: 4 | train_loss: 1.0337 | test_loss: 1.0025 | \n",
      "Epoch: 5 | train_loss: 0.9908 | test_loss: 0.9683 | \n",
      "Epoch: 6 | train_loss: 0.9601 | test_loss: 0.9434 | \n",
      "Epoch: 7 | train_loss: 0.9372 | test_loss: 0.9245 | \n",
      "Epoch: 8 | train_loss: 0.9215 | test_loss: 0.9113 | \n",
      "Epoch: 9 | train_loss: 0.9087 | test_loss: 0.8997 | \n",
      "Epoch: 10 | train_loss: 0.8963 | test_loss: 0.8859 | \n",
      "Epoch: 11 | train_loss: 0.8849 | test_loss: 0.8791 | \n",
      "Epoch: 12 | train_loss: 0.8739 | test_loss: 0.8670 | \n",
      "Epoch: 13 | train_loss: 0.8642 | test_loss: 0.8569 | \n",
      "Epoch: 14 | train_loss: 0.8557 | test_loss: 0.8495 | \n",
      "Epoch: 15 | train_loss: 0.8488 | test_loss: 0.8444 | \n",
      "Epoch: 16 | train_loss: 0.8426 | test_loss: 0.8403 | \n",
      "Epoch: 17 | train_loss: 0.8375 | test_loss: 0.8333 | \n",
      "Epoch: 18 | train_loss: 0.8327 | test_loss: 0.8314 | \n",
      "Epoch: 19 | train_loss: 0.8286 | test_loss: 0.8259 | \n",
      "Epoch: 20 | train_loss: 0.8245 | test_loss: 0.8233 | \n",
      "Epoch: 21 | train_loss: 0.8212 | test_loss: 0.8186 | \n",
      "Epoch: 22 | train_loss: 0.8176 | test_loss: 0.8142 | \n",
      "Epoch: 23 | train_loss: 0.8138 | test_loss: 0.8116 | \n",
      "Epoch: 24 | train_loss: 0.8103 | test_loss: 0.8093 | \n",
      "Epoch: 25 | train_loss: 0.8067 | test_loss: 0.8065 | \n",
      "Epoch: 26 | train_loss: 0.8032 | test_loss: 0.8002 | \n",
      "Epoch: 27 | train_loss: 0.7997 | test_loss: 0.7994 | \n",
      "Epoch: 28 | train_loss: 0.7968 | test_loss: 0.7966 | \n",
      "Epoch: 29 | train_loss: 0.7937 | test_loss: 0.7925 | \n",
      "Epoch: 30 | train_loss: 0.7907 | test_loss: 0.7908 | \n"
     ]
    },
    {
     "data": {
      "text/plain": [
       "{'train_loss': [2.2172782150268553,\n",
       "  1.2742387722333273,\n",
       "  1.1280330976168316,\n",
       "  1.033730085436503,\n",
       "  0.9907998758951823,\n",
       "  0.9600706835110983,\n",
       "  0.9372216596921285,\n",
       "  0.9215122676849365,\n",
       "  0.9086943726539611,\n",
       "  0.8962883344332377,\n",
       "  0.8849230737686157,\n",
       "  0.8738759881655375,\n",
       "  0.8642463980038961,\n",
       "  0.8557494569460551,\n",
       "  0.8487641870816549,\n",
       "  0.8425574098904928,\n",
       "  0.8374630622545878,\n",
       "  0.8327186793327331,\n",
       "  0.8286476243019104,\n",
       "  0.8244782183965047,\n",
       "  0.8211669178326925,\n",
       "  0.8175583366394042,\n",
       "  0.8138170206069947,\n",
       "  0.8102658445676167,\n",
       "  0.8067108604749044,\n",
       "  0.8031616746584574,\n",
       "  0.7997378698031108,\n",
       "  0.7967594600359599,\n",
       "  0.7936869451204935,\n",
       "  0.7906547963460286],\n",
       " 'test_loss': [1.3638862752305052,\n",
       "  1.185706163938053,\n",
       "  1.0586473688530846,\n",
       "  1.0025313555623014,\n",
       "  0.9683371121510149,\n",
       "  0.9433800119180649,\n",
       "  0.9244976974904727,\n",
       "  0.9113136044325539,\n",
       "  0.8997260255935474,\n",
       "  0.8858826487970809,\n",
       "  0.879074570469963,\n",
       "  0.8670363900379632,\n",
       "  0.856943148964891,\n",
       "  0.849541406090648,\n",
       "  0.8443977905157656,\n",
       "  0.8403278781583134,\n",
       "  0.8333087496864148,\n",
       "  0.8313814074086686,\n",
       "  0.8259205919104262,\n",
       "  0.823267576603082,\n",
       "  0.8186325392784021,\n",
       "  0.8141635842978383,\n",
       "  0.8116474682911516,\n",
       "  0.8092698272043904,\n",
       "  0.8065187416899319,\n",
       "  0.8002056917443443,\n",
       "  0.7993768453598022,\n",
       "  0.7966144138250869,\n",
       "  0.7925058395717852,\n",
       "  0.7908179575261979]}"
      ]
     },
     "execution_count": 22,
     "metadata": {},
     "output_type": "execute_result"
    }
   ],
   "source": [
    "%load_ext autoreload\n",
    "%autoreload 2\n",
    "\n",
    "import os\n",
    "import torch\n",
    "from torch import nn\n",
    "import utils, engine, autoencoder_model\n",
    "\n",
    "NUM_EPOCHS = 30\n",
    "LEARNING_RATE = 0.0001\n",
    "WEIGHT_DECAY = 0.00001\n",
    "SEED = 42\n",
    "device = 'cuda' if torch.cuda.is_available() else 'cpu'\n",
    "torch.manual_seed(SEED)\n",
    "if torch.cuda.is_available():\n",
    "    torch.cuda.manual_seed_all(SEED)\n",
    "\n",
    "autoencoder_V_1 = autoencoder_model.AutoEncoder_V_1().to(device)\n",
    "loss_fn = nn.MSELoss()\n",
    "optimizer = torch.optim.Adam(autoencoder_V_1.parameters(), lr=LEARNING_RATE, weight_decay=WEIGHT_DECAY)\n",
    "\n",
    "engine.train(model=autoencoder_V_1,\n",
    "             train_dataloader=train_dataloader,\n",
    "             test_dataloader=test_dataloader,\n",
    "             loss_fn=loss_fn,\n",
    "             optimizer=optimizer,\n",
    "             epochs=NUM_EPOCHS,\n",
    "             device=device)"
   ]
  },
  {
   "cell_type": "code",
   "execution_count": 23,
   "id": "20cf02f5",
   "metadata": {},
   "outputs": [
    {
     "name": "stdout",
     "output_type": "stream",
     "text": [
      "[INFO] Saving model to: trained_models\\autoencoder_V_1.pth\n"
     ]
    }
   ],
   "source": [
    "import utils\n",
    "utils.save_model(model=autoencoder_V_1,\n",
    "                 target_dir='trained_models',\n",
    "                 model_name='autoencoder_V_1.pth')"
   ]
  },
  {
   "cell_type": "markdown",
   "id": "18b9f05d",
   "metadata": {},
   "source": [
    "### V1 Results"
   ]
  },
  {
   "cell_type": "code",
   "execution_count": 24,
   "id": "3113e812",
   "metadata": {},
   "outputs": [
    {
     "name": "stdout",
     "output_type": "stream",
     "text": [
      "The autoreload extension is already loaded. To reload it, use:\n",
      "  %reload_ext autoreload\n"
     ]
    },
    {
     "data": {
      "image/png": "[encoded data removed]",
      "text/plain": [
       "<Figure size 1800x400 with 20 Axes>"
      ]
     },
     "metadata": {},
     "output_type": "display_data"
    }
   ],
   "source": [
    "%load_ext autoreload\n",
    "%reload_ext autoreload\n",
    "%autoreload 2\n",
    "\n",
    "from plot_image import plot_reconstructed_images\n",
    "plot_reconstructed_images(model=autoencoder_V_1, dataloader=test_dataloader, device=device, num_images_to_plot=10)"
   ]
  }
 ],
 "metadata": {
  "kernelspec": {
   "display_name": "Python 3",
   "language": "python",
   "name": "python3"
  },
  "language_info": {
   "codemirror_mode": {
    "name": "ipython",
    "version": 3
   },
   "file_extension": ".py",
   "mimetype": "text/x-python",
   "name": "python",
   "nbconvert_exporter": "python",
   "pygments_lexer": "ipython3",
   "version": "3.13.3"
  }
 },
 "nbformat": 4,
 "nbformat_minor": 5
}
